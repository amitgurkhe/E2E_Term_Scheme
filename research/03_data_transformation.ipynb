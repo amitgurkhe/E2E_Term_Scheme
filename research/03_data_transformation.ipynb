{
 "cells": [
  {
   "cell_type": "code",
   "execution_count": 1,
   "metadata": {},
   "outputs": [],
   "source": [
    "import numpy as np\n",
    "import os\n",
    "import pandas as pd"
   ]
  },
  {
   "cell_type": "code",
   "execution_count": 2,
   "metadata": {},
   "outputs": [],
   "source": [
    "os.chdir(\"../\")"
   ]
  },
  {
   "cell_type": "code",
   "execution_count": 3,
   "metadata": {},
   "outputs": [
    {
     "data": {
      "text/plain": [
       "'c:\\\\Users\\\\Amit\\\\Notebooks\\\\Alianz_Assignment\\\\E2E_Term_Scheme'"
      ]
     },
     "execution_count": 3,
     "metadata": {},
     "output_type": "execute_result"
    }
   ],
   "source": [
    "%pwd"
   ]
  },
  {
   "cell_type": "code",
   "execution_count": 35,
   "metadata": {},
   "outputs": [],
   "source": [
    "# entity\n",
    "\n",
    "from dataclasses import dataclass\n",
    "from pathlib import Path"
   ]
  },
  {
   "cell_type": "code",
   "execution_count": 53,
   "metadata": {},
   "outputs": [],
   "source": [
    "@dataclass(frozen=True)\n",
    "class DataTransformationConfig:\n",
    "    root_dir: Path\n",
    "    data_path: Path"
   ]
  },
  {
   "cell_type": "code",
   "execution_count": 37,
   "metadata": {},
   "outputs": [],
   "source": [
    "from mlproject.constants import *\n",
    "from mlproject.utils.common import read_yaml,create_directories"
   ]
  },
  {
   "cell_type": "code",
   "execution_count": 54,
   "metadata": {},
   "outputs": [],
   "source": [
    "class ConfigurationManager:\n",
    "    def __init__(\n",
    "        self,\n",
    "        config_filepath = CONFIG_FILE_PATH,   # all imported from constants \n",
    "        params_filepath = PARAMS_FILE_PATH,\n",
    "        schema_filepath = SCHEMA_FILE_PATH):\n",
    "\n",
    "        self.config = read_yaml(config_filepath)\n",
    "        self.params = read_yaml(params_filepath)\n",
    "        self.schema = read_yaml(schema_filepath)\n",
    "\n",
    "        create_directories([self.config.artifacts_root])\n",
    "\n",
    "    def get_data_transformation_config(self) -> DataTransformationConfig:\n",
    "        config = self.config.data_transformation\n",
    "\n",
    "        create_directories([config.root_dir])\n",
    "\n",
    "        data_transformation_config = DataTransformationConfig(\n",
    "            root_dir=config.root_dir,\n",
    "            data_path=config.data_path,\n",
    "        )\n",
    "\n",
    "        return data_transformation_config\n",
    "\n"
   ]
  },
  {
   "cell_type": "code",
   "execution_count": 39,
   "metadata": {},
   "outputs": [],
   "source": [
    "import os\n",
    "from mlproject import logger\n",
    "from sklearn.model_selection import train_test_split\n",
    "import pandas as pd\n",
    "from sklearn.preprocessing import OneHotEncoder, OrdinalEncoder,LabelEncoder,StandardScaler\n",
    "#from mlproject.entity.config_entity import DataTransformationConfig"
   ]
  },
  {
   "cell_type": "code",
   "execution_count": 57,
   "metadata": {},
   "outputs": [],
   "source": [
    "## Component\n",
    "class DataTransformation:\n",
    "    def __init__(self, config: DataTransformationConfig):\n",
    "        self.config = config\n",
    "\n",
    "    \n",
    "    ## Note: You can add different data transformation techniques such as Scaler, PCA and all\n",
    "    #You can perform all kinds of EDA in ML cycle here before passing this data to the model\n",
    "\n",
    "    # I am only adding train_test_spliting cz this data is already cleaned up\n",
    "\n",
    "\n",
    "    def processor(self):\n",
    "        le =LabelEncoder()\n",
    "        oe = OrdinalEncoder()\n",
    "        ohe = OneHotEncoder()\n",
    "        ss = StandardScaler()\n",
    "\n",
    "        data = pd.read_csv(self.config.data_path,sep=\";\")\n",
    "\n",
    "        # Split the data into training and test sets. (0.75, 0.25) split.\n",
    "        train, test = train_test_split(data,test_size=0.2,random_state=42)\n",
    "        train['y_enc']=le.fit_transform(train['y'])\n",
    "        test['y_enc']=le.fit_transform(test['y'])\n",
    "\n",
    "        std_cols = ['age','duration','emp.var.rate', 'cons.price.idx',\n",
    "       'cons.conf.idx', 'euribor3m', 'nr.employed']\n",
    "        \n",
    "        cat_cols = ['job', 'marital', 'education', 'default',\n",
    "       'contact', 'month', 'day_of_week','poutcome']\n",
    "        \n",
    "        other_cols = ['campaign','pdays','previous']\n",
    "        target = ['y']\n",
    "\n",
    "        no_association_cols = ['housing','loan']\n",
    "\n",
    "        #Preparation of train data\n",
    "        ss = StandardScaler().fit(train[std_cols])\n",
    "        train_std=pd.DataFrame(ss.transform(train[std_cols]),columns=std_cols,index=train.index)\n",
    "\n",
    "        train['campaign_rec'] = 1/train['campaign']\n",
    "        train['previous_plus1'] = train['previous']+1\n",
    "\n",
    "        train_cat = pd.get_dummies(train[cat_cols])\n",
    "        train = train.join(train_cat)\n",
    "\n",
    "        drop_cols = ['job_unknown',\n",
    "                'marital_unknown',\n",
    "                'education_illiterate',\n",
    "                'default_yes',\n",
    "                'contact_telephone',\n",
    "                'month_dec',\n",
    "                'day_of_week_fri',\n",
    "                'poutcome_failure'] + std_cols + cat_cols +['housing','loan','pdays','campaign','previous']\n",
    "        \n",
    "        train.drop(columns=drop_cols,axis=1,inplace=True)\n",
    "\n",
    "        train = train.join(train_std)\n",
    "\n",
    "        selected_cols =['campaign_rec', 'job_admin.', 'job_entrepreneur', 'job_housemaid',\n",
    "       'job_management', 'job_retired', 'job_services', 'job_student',\n",
    "       'job_technician', 'job_unemployed', 'education_basic.4y',\n",
    "       'education_basic.9y', 'education_high.school',\n",
    "       'education_professional.course', 'education_unknown', 'default_unknown',\n",
    "       'contact_cellular', 'month_apr', 'month_aug', 'month_jun', 'month_mar',\n",
    "       'month_may', 'month_nov', 'day_of_week_mon', 'day_of_week_tue',\n",
    "       'day_of_week_wed', 'poutcome_nonexistent', 'poutcome_success',\n",
    "       'duration', 'emp.var.rate', 'cons.price.idx', 'euribor3m',\n",
    "       'nr.employed','y_enc']\n",
    "        \n",
    "        train = train[selected_cols]\n",
    "        train.to_csv(os.path.join(self.config.root_dir, \"train.csv\"),index = False)\n",
    "        \n",
    "        #Preparation of test data\n",
    "\n",
    "        test_std=pd.DataFrame(ss.transform(test[std_cols]),columns=std_cols,index=test.index)\n",
    "\n",
    "        test['campaign_rec'] = 1/test['campaign']\n",
    "        test['previous_plus1'] = test['previous']+1\n",
    "\n",
    "        test_cat = pd.get_dummies(test[cat_cols])\n",
    "        test = test.join(test_cat)\n",
    "\n",
    "        drop_cols_test = [i for i in drop_cols if i != 'default_yes']\n",
    "        \n",
    "        test.drop(columns=drop_cols_test,axis=1,inplace=True)\n",
    "\n",
    "        test = test.join(test_std)\n",
    "\n",
    "        #selected_cols_test =selected_cols+['default_yes']\n",
    "        \n",
    "        test = test[selected_cols]\n",
    "        test.to_csv(os.path.join(self.config.root_dir, \"test.csv\"),index = False)\n",
    "\n",
    "        logger.info(\"Splited data into training and test sets\")\n",
    "        logger.info(train.shape)\n",
    "        logger.info(test.shape)\n",
    "\n",
    "        print(train.shape)\n",
    "        print(test.shape)\n",
    "\n",
    "\n",
    "    #def preprocessor(self):\n",
    "        \n"
   ]
  },
  {
   "cell_type": "code",
   "execution_count": 58,
   "metadata": {},
   "outputs": [
    {
     "name": "stdout",
     "output_type": "stream",
     "text": [
      "[2024-05-20 20:59:53,178: INFO: common: yaml file: config\\config.yaml loaded successfully]\n",
      "[2024-05-20 20:59:53,178: INFO: common: yaml file: params.yaml loaded successfully]\n",
      "[2024-05-20 20:59:53,178: INFO: common: yaml file: schema.yaml loaded successfully]\n",
      "[2024-05-20 20:59:53,186: INFO: common: created directory at: artifacts]\n",
      "[2024-05-20 20:59:53,187: INFO: common: created directory at: artifacts/data_transformation]\n",
      "[2024-05-20 20:59:53,867: INFO: 3591753637: Splited data into training and test sets]\n",
      "[2024-05-20 20:59:53,871: INFO: 3591753637: (32950, 34)]\n",
      "[2024-05-20 20:59:53,871: INFO: 3591753637: (8238, 34)]\n",
      "(32950, 34)\n",
      "(8238, 34)\n"
     ]
    }
   ],
   "source": [
    "try:\n",
    "            \n",
    "    with open(Path(\"artifacts/data_validation/status.txt\"), \"r\") as f:\n",
    "        status = f.read().split(\" \")[-1]\n",
    "\n",
    "    if status == \"True\":\n",
    "        config = ConfigurationManager()\n",
    "        data_transformation_config = config.get_data_transformation_config()\n",
    "        data_transformation = DataTransformation(config=data_transformation_config)\n",
    "        data_transformation.processor()\n",
    "\n",
    "    else:\n",
    "        raise Exception(\"You data schema is not valid\")\n",
    "except Exception as e:\n",
    "            print(e)"
   ]
  },
  {
   "cell_type": "code",
   "execution_count": null,
   "metadata": {},
   "outputs": [],
   "source": []
  }
 ],
 "metadata": {
  "kernelspec": {
   "display_name": "Python 3",
   "language": "python",
   "name": "python3"
  },
  "language_info": {
   "codemirror_mode": {
    "name": "ipython",
    "version": 3
   },
   "file_extension": ".py",
   "mimetype": "text/x-python",
   "name": "python",
   "nbconvert_exporter": "python",
   "pygments_lexer": "ipython3",
   "version": "3.8.0"
  }
 },
 "nbformat": 4,
 "nbformat_minor": 2
}
